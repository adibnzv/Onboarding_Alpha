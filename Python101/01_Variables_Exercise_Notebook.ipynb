{
 "cells": [
  {
   "cell_type": "markdown",
   "id": "fce9014d",
   "metadata": {},
   "source": [
    "# 🧪 תרגול: משתנים וסוגי נתונים בפייתון"
   ]
  },
  {
   "cell_type": "markdown",
   "id": "11e061ef",
   "metadata": {},
   "source": [
    "בתרגיל הזה ניישם את מה שלמדנו על משתנים, סוגי נתונים, רשימות ומילונים.\n",
    "\n",
    "אנא הקפד להשתמש בשמות משתנים ברורים ולבדוק את הפלט של כל שלב.\n"
   ]
  },
  {
   "cell_type": "markdown",
   "id": "5abd54d2",
   "metadata": {},
   "source": [
    "### שלב 1: משתנים בסיסיים"
   ]
  },
  {
   "cell_type": "code",
   "execution_count": null,
   "id": "600c47f1",
   "metadata": {},
   "outputs": [],
   "source": [
    "# צור משתנה בשם שלך\n",
    "name = \"YourName\"\n",
    "\n",
    "# צור משתנה עם שנת הלידה שלך\n",
    "birth_year = 1998\n",
    "\n",
    "# צור משתנה עם השנה הנוכחית\n",
    "current_year = 2025\n",
    "\n",
    "# חשב את הגיל שלך בעזרת חיסור\n",
    "age = current_year - birth_year\n",
    "\n",
    "# הדפס את התוצאה בצורה הבאה:\n",
    "# \"YourName is 27 years old\"\n",
    "print(f\"{name} is {age} years old\")\n"
   ]
  },
  {
   "cell_type": "markdown",
   "id": "03cc87ac",
   "metadata": {},
   "source": [
    "### שלב 2: רשימות"
   ]
  },
  {
   "cell_type": "code",
   "execution_count": null,
   "id": "72222b52",
   "metadata": {},
   "outputs": [],
   "source": [
    "# צור רשימה של שלושה שמות חברים\n",
    "friends = [\"Lior\", \"Noa\", \"Amit\"]\n",
    "\n",
    "# הוסף עוד חבר לרשימה\n",
    "friends.append(\"Gal\")\n",
    "\n",
    "# הדפס את החבר הראשון\n",
    "print(friends[0])\n"
   ]
  },
  {
   "cell_type": "markdown",
   "id": "4fbbb9b5",
   "metadata": {},
   "source": [
    "### שלב 3: מילונים"
   ]
  },
  {
   "cell_type": "code",
   "execution_count": null,
   "id": "20eca997",
   "metadata": {},
   "outputs": [],
   "source": [
    "# צור מילון שבו כל שם הוא מפתח והערך הוא שנת הלידה\n",
    "birthdays = {\n",
    "    \"Lior\": 1999,\n",
    "    \"Noa\": 1998,\n",
    "    \"Amit\": 1997\n",
    "}\n",
    "\n",
    "# הוסף גם את עצמך\n",
    "birthdays[name] = birth_year\n",
    "\n",
    "# הדפס את השנה של Noa\n",
    "print(birthdays[\"Noa\"])\n"
   ]
  },
  {
   "cell_type": "markdown",
   "id": "590b4700",
   "metadata": {},
   "source": [
    "### שלב 4: בונוס – בדיקת גיל"
   ]
  },
  {
   "cell_type": "code",
   "execution_count": null,
   "id": "0edd12d0",
   "metadata": {},
   "outputs": [],
   "source": [
    "# צור משתנה בשם friend_name שמכיל את השם של אחד החברים\n",
    "friend_name = \"Amit\"\n",
    "\n",
    "# חשב את הגיל של אותו חבר\n",
    "friend_age = current_year - birthdays[friend_name]\n",
    "\n",
    "# הדפס: \"Amit is 27 years old\"\n",
    "print(f\"{friend_name} is {friend_age} years old\")\n"
   ]
  }
 ],
 "metadata": {},
 "nbformat": 4,
 "nbformat_minor": 5
}
