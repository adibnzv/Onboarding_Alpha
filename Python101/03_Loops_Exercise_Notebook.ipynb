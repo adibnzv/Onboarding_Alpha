{
 "cells": [
  {
   "cell_type": "markdown",
   "id": "a326fc9b",
   "metadata": {},
   "source": [
    "# 🧪 תרגול: לולאות בפייתון"
   ]
  },
  {
   "cell_type": "markdown",
   "id": "b11cdaf6",
   "metadata": {},
   "source": [
    "בתרגיל זה תתנסו בכתיבת לולאות מסוג `for` ו־`while`, שימוש ב־`break` ו־`continue`, וחזרה על פעולה בתוך רשימות.\n"
   ]
  },
  {
   "cell_type": "markdown",
   "id": "51a19d6a",
   "metadata": {},
   "source": [
    "## שלב 1: לולאת for עם range"
   ]
  },
  {
   "cell_type": "code",
   "execution_count": null,
   "id": "ee3f89f1",
   "metadata": {},
   "outputs": [],
   "source": [
    "# הדפס את המספרים 1 עד 10 כולל\n",
    "\n",
    "for i in range(1, 11):\n",
    "    print(i)\n"
   ]
  },
  {
   "cell_type": "markdown",
   "id": "88c75ab1",
   "metadata": {},
   "source": [
    "## שלב 2: מעבר על רשימה"
   ]
  },
  {
   "cell_type": "code",
   "execution_count": null,
   "id": "fc1ffb8b",
   "metadata": {},
   "outputs": [],
   "source": [
    "# צור רשימה של 3 חיות והדפס את כולן בעזרת לולאת for\n",
    "\n",
    "animals = [\"cat\", \"dog\", \"parrot\"]\n",
    "\n",
    "for animal in animals:\n",
    "    print(animal)\n"
   ]
  },
  {
   "cell_type": "markdown",
   "id": "aa329919",
   "metadata": {},
   "source": [
    "## שלב 3: שימוש ב-continue"
   ]
  },
  {
   "cell_type": "code",
   "execution_count": null,
   "id": "551f71ef",
   "metadata": {},
   "outputs": [],
   "source": [
    "# הדפס את כל המספרים מ-0 עד 9 חוץ מ-4\n",
    "\n",
    "for i in range(10):\n",
    "    if i == 4:\n",
    "        continue\n",
    "    print(i)\n"
   ]
  },
  {
   "cell_type": "markdown",
   "id": "239cb891",
   "metadata": {},
   "source": [
    "## שלב 4: לולאת while"
   ]
  },
  {
   "cell_type": "code",
   "execution_count": null,
   "id": "c5904080",
   "metadata": {},
   "outputs": [],
   "source": [
    "# הדפס את המספרים מ-0 עד 4 בעזרת while\n",
    "\n",
    "x = 0\n",
    "while x < 5:\n",
    "    print(x)\n",
    "    x += 1\n"
   ]
  },
  {
   "cell_type": "markdown",
   "id": "04a80b75",
   "metadata": {},
   "source": [
    "## שלב 5: break"
   ]
  },
  {
   "cell_type": "code",
   "execution_count": null,
   "id": "681187a7",
   "metadata": {},
   "outputs": [],
   "source": [
    "# הדפס את המספרים מ-0 עד 9, אך עצור אם הגעת ל-6\n",
    "\n",
    "for i in range(10):\n",
    "    if i == 6:\n",
    "        break\n",
    "    print(i)\n"
   ]
  },
  {
   "cell_type": "markdown",
   "id": "af3dc90b",
   "metadata": {},
   "source": [
    "## שלב 6: בונוס – סכום זוגיים"
   ]
  },
  {
   "cell_type": "code",
   "execution_count": null,
   "id": "7fed463a",
   "metadata": {},
   "outputs": [],
   "source": [
    "# חשב את סכום המספרים הזוגיים מ-1 עד 20\n",
    "\n",
    "sum_even = 0\n",
    "for i in range(1, 21):\n",
    "    if i % 2 == 0:\n",
    "        sum_even += i\n",
    "\n",
    "print(\"Sum of even numbers:\", sum_even)\n"
   ]
  }
 ],
 "metadata": {},
 "nbformat": 4,
 "nbformat_minor": 5
}
