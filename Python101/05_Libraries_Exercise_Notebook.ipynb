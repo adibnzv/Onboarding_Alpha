{
 "cells": [
  {
   "cell_type": "markdown",
   "id": "14cdbbd3",
   "metadata": {},
   "source": [
    "# 🧪 תרגול: עבודה עם ספריות בפייתון"
   ]
  },
  {
   "cell_type": "markdown",
   "id": "1bff0d1c",
   "metadata": {},
   "source": [
    "בתרגיל הזה תתנסו בשימוש בספריות פופולריות כמו `math`, `numpy`, `pandas` ו־`matplotlib`."
   ]
  },
  {
   "cell_type": "markdown",
   "id": "40c211c0",
   "metadata": {},
   "source": [
    "## שלב 1: שימוש בספריית math"
   ]
  },
  {
   "cell_type": "code",
   "execution_count": null,
   "id": "4f449140",
   "metadata": {},
   "outputs": [],
   "source": [
    "import math\n",
    "\n",
    "# חשב את השורש הריבועי של 81\n",
    "print(math.sqrt(81))\n",
    "\n",
    "# חשב את הערך של פאי\n",
    "print(math.pi)\n"
   ]
  },
  {
   "cell_type": "markdown",
   "id": "cabeed0a",
   "metadata": {},
   "source": [
    "## שלב 2: עבודה עם numpy"
   ]
  },
  {
   "cell_type": "code",
   "execution_count": null,
   "id": "0df60544",
   "metadata": {},
   "outputs": [],
   "source": [
    "import numpy as np\n",
    "\n",
    "# צור מערך של מספרים בין 1 ל־5\n",
    "arr = np.array([1, 2, 3, 4, 5])\n",
    "print(arr)\n",
    "\n",
    "# חשב את הממוצע של המערך\n",
    "print(np.mean(arr))\n"
   ]
  },
  {
   "cell_type": "markdown",
   "id": "2e51f114",
   "metadata": {},
   "source": [
    "## שלב 3: עבודה עם pandas"
   ]
  },
  {
   "cell_type": "code",
   "execution_count": null,
   "id": "add0954a",
   "metadata": {},
   "outputs": [],
   "source": [
    "import pandas as pd\n",
    "\n",
    "# צור טבלה (DataFrame) עם שמות וגילאים\n",
    "data = {\n",
    "    \"Name\": [\"Adi\", \"Dana\", \"Yossi\"],\n",
    "    \"Age\": [30, 25, 27]\n",
    "}\n",
    "df = pd.DataFrame(data)\n",
    "\n",
    "# הצג את הטבלה\n",
    "print(df)\n",
    "\n",
    "# חשב את הגיל הממוצע\n",
    "print(df[\"Age\"].mean())\n"
   ]
  },
  {
   "cell_type": "markdown",
   "id": "e46653ca",
   "metadata": {},
   "source": [
    "## שלב 4: גרף עם matplotlib"
   ]
  },
  {
   "cell_type": "code",
   "execution_count": null,
   "id": "966f6288",
   "metadata": {},
   "outputs": [],
   "source": [
    "import matplotlib.pyplot as plt\n",
    "\n",
    "# נשרטט גרף פשוט של מספרים\n",
    "x = [1, 2, 3, 4]\n",
    "y = [1, 4, 9, 16]\n",
    "\n",
    "plt.plot(x, y)\n",
    "plt.title(\"Graph of x vs y\")\n",
    "plt.xlabel(\"x\")\n",
    "plt.ylabel(\"y\")\n",
    "plt.show()\n"
   ]
  }
 ],
 "metadata": {},
 "nbformat": 4,
 "nbformat_minor": 5
}
