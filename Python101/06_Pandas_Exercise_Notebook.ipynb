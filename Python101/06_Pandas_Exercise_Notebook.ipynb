{
 "cells": [
  {
   "cell_type": "markdown",
   "id": "4d548597",
   "metadata": {},
   "source": [
    "# 🧪 תרגול: עבודה עם pandas"
   ]
  },
  {
   "cell_type": "markdown",
   "id": "f7666953",
   "metadata": {},
   "source": [
    "בתרגול הזה נלמד לטעון, להציג ולנתח נתונים באמצעות pandas."
   ]
  },
  {
   "cell_type": "markdown",
   "id": "12dd0768",
   "metadata": {},
   "source": [
    "## שלב 1: יצירת טבלה פשוטה"
   ]
  },
  {
   "cell_type": "code",
   "execution_count": null,
   "id": "addd4b54",
   "metadata": {},
   "outputs": [],
   "source": [
    "import pandas as pd\n",
    "\n",
    "# יצירת טבלה פשוטה\n",
    "data = {\n",
    "    \"Name\": [\"Adi\", \"Dana\", \"Yossi\"],\n",
    "    \"Age\": [30, 25, 27]\n",
    "}\n",
    "df = pd.DataFrame(data)\n",
    "\n",
    "# הצגת הטבלה\n",
    "df"
   ]
  },
  {
   "cell_type": "markdown",
   "id": "e7c23e75",
   "metadata": {},
   "source": [
    "## שלב 2: מידע בסיסי על הטבלה"
   ]
  },
  {
   "cell_type": "code",
   "execution_count": null,
   "id": "52d496b8",
   "metadata": {},
   "outputs": [],
   "source": [
    "# הצג את השורות הראשונות\n",
    "print(df.head())\n",
    "\n",
    "# הצג את המידע הכללי\n",
    "df.info()\n",
    "\n",
    "# סטטיסטיקה כללית\n",
    "df.describe()"
   ]
  },
  {
   "cell_type": "markdown",
   "id": "3cac3995",
   "metadata": {},
   "source": [
    "## שלב 3: גישה לעמודות ושורות"
   ]
  },
  {
   "cell_type": "code",
   "execution_count": null,
   "id": "c2a09ce2",
   "metadata": {},
   "outputs": [],
   "source": [
    "# גישה לעמודה Age\n",
    "df[\"Age\"]\n",
    "\n",
    "# גישה לשורה הראשונה\n",
    "df.iloc[0]"
   ]
  },
  {
   "cell_type": "markdown",
   "id": "7a45e492",
   "metadata": {},
   "source": [
    "## שלב 4: סינון לפי תנאים"
   ]
  },
  {
   "cell_type": "code",
   "execution_count": null,
   "id": "0de235e3",
   "metadata": {},
   "outputs": [],
   "source": [
    "# סנן את כל האנשים בגיל מעל 26\n",
    "df[df[\"Age\"] > 26]"
   ]
  },
  {
   "cell_type": "markdown",
   "id": "8786bb24",
   "metadata": {},
   "source": [
    "## שלב 5: יצירת עמודה חדשה"
   ]
  },
  {
   "cell_type": "code",
   "execution_count": null,
   "id": "0ee55541",
   "metadata": {},
   "outputs": [],
   "source": [
    "# צור עמודה חדשה בשם 'Is_Adult' שבודקת אם הגיל מעל 18\n",
    "df[\"Is_Adult\"] = df[\"Age\"] > 18\n",
    "df"
   ]
  },
  {
   "cell_type": "markdown",
   "id": "aa5d00a1",
   "metadata": {},
   "source": [
    "## שלב 6 (אופציונלי): טעינת קובץ CSV"
   ]
  },
  {
   "cell_type": "code",
   "execution_count": null,
   "id": "244437d6",
   "metadata": {},
   "outputs": [],
   "source": [
    "# הרץ אם יש לך קובץ נתונים בשם data.csv בתיקייה הנוכחית\n",
    "# df = pd.read_csv(\"data.csv\")\n",
    "# df.head()"
   ]
  }
 ],
 "metadata": {},
 "nbformat": 4,
 "nbformat_minor": 5
}
