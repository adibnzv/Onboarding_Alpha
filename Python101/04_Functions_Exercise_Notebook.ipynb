{
 "cells": [
  {
   "cell_type": "markdown",
   "id": "72ca256b",
   "metadata": {},
   "source": [
    "# 🧪 תרגול: פונקציות בפייתון"
   ]
  },
  {
   "cell_type": "markdown",
   "id": "08d60ac0",
   "metadata": {},
   "source": [
    "בתרגיל הזה תתנסו בהגדרת פונקציות, שימוש בארגומנטים, ערכי ברירת מחדל וערכי חזרה (`return`)."
   ]
  },
  {
   "cell_type": "markdown",
   "id": "503451cf",
   "metadata": {},
   "source": [
    "## שלב 1: פונקציה פשוטה"
   ]
  },
  {
   "cell_type": "code",
   "execution_count": null,
   "id": "73455a55",
   "metadata": {},
   "outputs": [],
   "source": [
    "# כתבו פונקציה בשם say_hello שמדפיסה \"Hello!\"\n",
    "\n",
    "def say_hello():\n",
    "    print(\"Hello!\")\n",
    "\n",
    "# קריאה לדוגמה\n",
    "say_hello()"
   ]
  },
  {
   "cell_type": "markdown",
   "id": "6eb294b9",
   "metadata": {},
   "source": [
    "## שלב 2: פונקציה עם ארגומנט"
   ]
  },
  {
   "cell_type": "code",
   "execution_count": null,
   "id": "1d12e1a0",
   "metadata": {},
   "outputs": [],
   "source": [
    "# כתבו פונקציה בשם greet שמקבלת שם ומדפיסה 'Hello, <name>!'\n",
    "\n",
    "def greet(name):\n",
    "    print(f\"Hello, {name}!\")\n",
    "\n",
    "# קריאה לדוגמה\n",
    "greet(\"Adi\")"
   ]
  },
  {
   "cell_type": "markdown",
   "id": "faeb8e2e",
   "metadata": {},
   "source": [
    "## שלב 3: פונקציה עם return"
   ]
  },
  {
   "cell_type": "code",
   "execution_count": null,
   "id": "d75e71c1",
   "metadata": {},
   "outputs": [],
   "source": [
    "# כתבו פונקציה בשם square שמחזירה את הריבוע של מספר\n",
    "\n",
    "def square(x):\n",
    "    return x ** 2\n",
    "\n",
    "# קריאה לדוגמה\n",
    "result = square(5)\n",
    "print(result)"
   ]
  },
  {
   "cell_type": "markdown",
   "id": "3148e3b1",
   "metadata": {},
   "source": [
    "## שלב 4: ערך ברירת מחדל"
   ]
  },
  {
   "cell_type": "code",
   "execution_count": null,
   "id": "e9a429cc",
   "metadata": {},
   "outputs": [],
   "source": [
    "# כתבו את הפונקציה greet כך שאם לא נשלח לה שם היא תברך את 'friend'\n",
    "\n",
    "def greet(name=\"friend\"):\n",
    "    print(f\"Hi, {name}!\")\n",
    "\n",
    "greet()\n",
    "greet(\"Yael\")"
   ]
  },
  {
   "cell_type": "markdown",
   "id": "61713ca3",
   "metadata": {},
   "source": [
    "## שלב 5: פונקציה שמחזירה את האיבר המקסימלי מרשימה"
   ]
  },
  {
   "cell_type": "code",
   "execution_count": null,
   "id": "c17f866b",
   "metadata": {},
   "outputs": [],
   "source": [
    "# כתבו פונקציה בשם get_max שמקבלת רשימה ומחזירה את המספר הגדול ביותר\n",
    "\n",
    "def get_max(numbers):\n",
    "    return max(numbers)\n",
    "\n",
    "get_max([3, 8, 2, 10])"
   ]
  },
  {
   "cell_type": "markdown",
   "id": "906f9931",
   "metadata": {},
   "source": [
    "## שלב 6 (בונוס): פונקציה שמחשבת ממוצע"
   ]
  },
  {
   "cell_type": "code",
   "execution_count": null,
   "id": "c45132f9",
   "metadata": {},
   "outputs": [],
   "source": [
    "# כתבו פונקציה שמחזירה את הממוצע של רשימת מספרים\n",
    "\n",
    "def get_average(numbers):\n",
    "    return sum(numbers) / len(numbers)\n",
    "\n",
    "get_average([10, 20, 30])"
   ]
  }
 ],
 "metadata": {},
 "nbformat": 4,
 "nbformat_minor": 5
}
