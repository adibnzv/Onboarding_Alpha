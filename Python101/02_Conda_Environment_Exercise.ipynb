{
 "cells": [
  {
   "cell_type": "markdown",
   "id": "37afc9e8",
   "metadata": {},
   "source": [
    "# 🧪 תרגול: עבודה עם סביבות Conda בפייתון"
   ]
  },
  {
   "cell_type": "markdown",
   "id": "7c57291a",
   "metadata": {},
   "source": [
    "בתרגיל הזה נלמד ליצור סביבה וירטואלית, להתקין בה חבילות, ולבצע פעולות בסיסיות לניהול סביבה.\n",
    "\n",
    "> 🧠 חשוב: תרגול זה מיועד להרצה בטרמינל ולא בתא מחברת. עם זאת, הוא מסביר בצורה מדורגת איך עובדים עם Conda."
   ]
  },
  {
   "cell_type": "markdown",
   "id": "2d8c435c",
   "metadata": {},
   "source": [
    "## שלב 1: יצירת סביבה חדשה"
   ]
  },
  {
   "cell_type": "markdown",
   "id": "29984c2b",
   "metadata": {},
   "source": [
    "1. פתחו טרמינל חדש (באמצעות VSCode, JupyterLab או SSH).\n",
    "2. הריצו את הפקודה הבאה (שנה את השם `testenv` לשם שמתאים לפרויקט שלך):\n",
    "```bash\n",
    "conda create -n testenv python=3.10\n",
    "```\n",
    "3. אשרו עם `y` כשתתבקשו.\n"
   ]
  },
  {
   "cell_type": "markdown",
   "id": "ace164f0",
   "metadata": {},
   "source": [
    "## שלב 2: הפעלת הסביבה"
   ]
  },
  {
   "cell_type": "markdown",
   "id": "730e0ef7",
   "metadata": {},
   "source": [
    "כדי לעבוד עם הסביבה שיצרת:\n",
    "```bash\n",
    "conda activate testenv\n",
    "```\n",
    "נסה להריץ:\n",
    "```bash\n",
    "python --version\n",
    "```\n",
    "ותוודא שאתה בסביבה הנכונה.\n"
   ]
  },
  {
   "cell_type": "markdown",
   "id": "2ba17597",
   "metadata": {},
   "source": [
    "## שלב 3: התקנת חבילות"
   ]
  },
  {
   "cell_type": "markdown",
   "id": "7a4f7adf",
   "metadata": {},
   "source": [
    "נסה להתקין את החבילות הבאות:\n",
    "```bash\n",
    "conda install numpy pandas matplotlib\n",
    "```\n",
    "ולאחר מכן בדוק:\n",
    "```bash\n",
    "python\n",
    ">>> import numpy\n",
    ">>> import pandas\n",
    ">>> import matplotlib\n",
    ">>> exit()\n",
    "```\n"
   ]
  },
  {
   "cell_type": "markdown",
   "id": "69d190e0",
   "metadata": {},
   "source": [
    "## שלב 4: ייצוא ושחזור סביבה"
   ]
  },
  {
   "cell_type": "markdown",
   "id": "8ea81b55",
   "metadata": {},
   "source": [
    "1. ייצא את הסביבה:\n",
    "```bash\n",
    "conda env export > environment.yml\n",
    "```\n",
    "\n",
    "2. נקה את הסביבה:\n",
    "```bash\n",
    "conda deactivate\n",
    "conda remove -n testenv --all\n",
    "```\n",
    "\n",
    "3. שחזר אותה:\n",
    "```bash\n",
    "conda env create -f environment.yml\n",
    "```\n"
   ]
  },
  {
   "cell_type": "markdown",
   "id": "c550a2ed",
   "metadata": {},
   "source": [
    "## שלב 5: התקנת Jupyter והרצה"
   ]
  },
  {
   "cell_type": "markdown",
   "id": "e5535d4d",
   "metadata": {},
   "source": [
    "```bash\n",
    "conda activate testenv\n",
    "conda install jupyter\n",
    "jupyter notebook\n",
    "```\n",
    "\n",
    "פתח מחברת חדשה ונסה להריץ תא קוד פשוט:\n",
    "```python\n",
    "print(\"סביבת פיתוח עובדת!\")\n",
    "```\n"
   ]
  }
 ],
 "metadata": {},
 "nbformat": 4,
 "nbformat_minor": 5
}
